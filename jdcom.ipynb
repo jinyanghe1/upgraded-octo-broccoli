import requests
r = requests.get("https://item.jd.com/2967929.html")

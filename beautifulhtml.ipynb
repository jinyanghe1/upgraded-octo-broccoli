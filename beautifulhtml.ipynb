{
 "cells": [
  {
   "cell_type": "code",
   "execution_count": 3,
   "metadata": {},
   "outputs": [],
   "source": [
    "import requests\n",
    "from bs4 import BeautifulSoup"
   ]
  },
  {
   "cell_type": "code",
   "execution_count": 4,
   "metadata": {},
   "outputs": [
    {
     "name": "stdout",
     "output_type": "stream",
     "text": [
      "<html>data</html>\n"
     ]
    }
   ],
   "source": [
    "soup = BeautifulSoup(\"<html>data</html>\",\"html.parser\")\n",
    "print(soup)"
   ]
  },
  {
   "cell_type": "markdown",
   "metadata": {},
   "source": [
    "beautifulsoup可以使用四种解析器：</br>\n",
    "`html.parser` </br>\n",
    "`lxml`</br>\n",
    "`xml`</br>\n",
    "`html5lib`"
   ]
  },
  {
   "cell_type": "markdown",
   "metadata": {},
   "source": [
    "BeautifulSoup 的基本元素:</br>\n",
    "tag</br>\n",
    "name</br>\n",
    "attributes<br>\n",
    "navigablestring<br>\n",
    "comment<br>\n"
   ]
  },
  {
   "cell_type": "code",
   "execution_count": 5,
   "metadata": {},
   "outputs": [],
   "source": [
    "#获得tag标签\n",
    "demo = requests.get(\"http://python123.io/ws/demo.html\").text\n",
    "soup = BeautifulSoup(demo,\"html.parser\")\n"
   ]
  },
  {
   "cell_type": "code",
   "execution_count": 8,
   "metadata": {},
   "outputs": [
    {
     "name": "stdout",
     "output_type": "stream",
     "text": [
      "<title>This is a python demo page</title>\n",
      "<a class=\"py1\" href=\"http://www.icourse163.org/course/BIT-268001\" id=\"link1\">Basic Python</a>\n",
      "p\n",
      "body\n",
      "{'href': 'http://www.icourse163.org/course/BIT-268001', 'class': ['py1'], 'id': 'link1'}\n"
     ]
    }
   ],
   "source": [
    "print(soup.title)\n",
    "tag = soup.a\n",
    "#上面获得文本中的第一个<a>标签\n",
    "print(tag)\n",
    "print(soup.a.parent.name)\n",
    "print(soup.a.parent.parent.name)\n",
    "print(tag.attrs)\n",
    "#标签属性"
   ]
  },
  {
   "cell_type": "code",
   "execution_count": 9,
   "metadata": {},
   "outputs": [
    {
     "data": {
      "text/plain": [
       "['py1']"
      ]
     },
     "execution_count": 9,
     "metadata": {},
     "output_type": "execute_result"
    }
   ],
   "source": [
    "tag.attrs['class']"
   ]
  },
  {
   "cell_type": "code",
   "execution_count": 10,
   "metadata": {},
   "outputs": [
    {
     "data": {
      "text/plain": [
       "'http://www.icourse163.org/course/BIT-268001'"
      ]
     },
     "execution_count": 10,
     "metadata": {},
     "output_type": "execute_result"
    }
   ],
   "source": [
    "tag.attrs['href']"
   ]
  },
  {
   "cell_type": "markdown",
   "metadata": {},
   "source": [
    "**有的时候tag的属性为空，这时`.attrs`属性返回空字典。**"
   ]
  },
  {
   "cell_type": "code",
   "execution_count": 14,
   "metadata": {},
   "outputs": [
    {
     "data": {
      "text/plain": [
       "'The demo python introduces several python courses.'"
      ]
     },
     "execution_count": 14,
     "metadata": {},
     "output_type": "execute_result"
    }
   ],
   "source": [
    "soup.p.string\n",
    "#这种用法返回标签中的文本。"
   ]
  },
  {
   "cell_type": "markdown",
   "metadata": {},
   "source": [
    "### BeautifulSoup类的基本元素\n",
    "Tag —— 标签，最基本的信息组织单元<br>\n",
    "Name 标签的名字，如`<p></p>`的名字是`p`。格式为`tag.name`<br>\n",
    "Attributes 标签的属性，字典格式组织。<br>\n",
    "NavigableString 标签内的非属性字符串<br>\n",
    "Comment 标签内字符串的注释部分.\n"
   ]
  },
  {
   "cell_type": "code",
   "execution_count": null,
   "metadata": {},
   "outputs": [],
   "source": []
  }
 ],
 "metadata": {
  "kernelspec": {
   "display_name": "base",
   "language": "python",
   "name": "python3"
  },
  "language_info": {
   "codemirror_mode": {
    "name": "ipython",
    "version": 3
   },
   "file_extension": ".py",
   "mimetype": "text/x-python",
   "name": "python",
   "nbconvert_exporter": "python",
   "pygments_lexer": "ipython3",
   "version": "3.10.8"
  }
 },
 "nbformat": 4,
 "nbformat_minor": 2
}
